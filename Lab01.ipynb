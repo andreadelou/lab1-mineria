{
  "nbformat": 4,
  "nbformat_minor": 0,
  "metadata": {
    "colab": {
      "provenance": []
    },
    "kernelspec": {
      "name": "python3",
      "display_name": "Python 3"
    },
    "language_info": {
      "name": "python"
    }
  },
  "cells": [
    {
      "cell_type": "markdown",
      "source": [
        "# Analisis Exploratorio"
      ],
      "metadata": {
        "id": "X1IdnIXQNPyC"
      }
    },
    {
      "cell_type": "code",
      "source": [
        "!pip install quickda"
      ],
      "metadata": {
        "colab": {
          "base_uri": "https://localhost:8080/"
        },
        "id": "IWEvl6JlcHIy",
        "outputId": "5ee15f5c-21a8-459d-d63c-aae44a858bad"
      },
      "execution_count": 7,
      "outputs": [
        {
          "output_type": "stream",
          "name": "stdout",
          "text": [
            "Looking in indexes: https://pypi.org/simple, https://us-python.pkg.dev/colab-wheels/public/simple/\n",
            "Requirement already satisfied: quickda in /usr/local/lib/python3.8/dist-packages (0.2.2)\n",
            "Requirement already satisfied: plotly in /usr/local/lib/python3.8/dist-packages (from quickda) (5.5.0)\n",
            "Requirement already satisfied: seaborn in /usr/local/lib/python3.8/dist-packages (from quickda) (0.11.2)\n",
            "Requirement already satisfied: numpy in /usr/local/lib/python3.8/dist-packages (from quickda) (1.21.6)\n",
            "Requirement already satisfied: pandas in /usr/local/lib/python3.8/dist-packages (from quickda) (1.3.5)\n",
            "Requirement already satisfied: ppscore in /usr/local/lib/python3.8/dist-packages (from quickda) (1.3.0)\n",
            "Requirement already satisfied: pandas-profiling in /usr/local/lib/python3.8/dist-packages (from quickda) (1.4.1)\n",
            "Requirement already satisfied: matplotlib in /usr/local/lib/python3.8/dist-packages (from quickda) (3.2.2)\n",
            "Requirement already satisfied: cycler>=0.10 in /usr/local/lib/python3.8/dist-packages (from matplotlib->quickda) (0.11.0)\n",
            "Requirement already satisfied: kiwisolver>=1.0.1 in /usr/local/lib/python3.8/dist-packages (from matplotlib->quickda) (1.4.4)\n",
            "Requirement already satisfied: python-dateutil>=2.1 in /usr/local/lib/python3.8/dist-packages (from matplotlib->quickda) (2.8.2)\n",
            "Requirement already satisfied: pyparsing!=2.0.4,!=2.1.2,!=2.1.6,>=2.0.1 in /usr/local/lib/python3.8/dist-packages (from matplotlib->quickda) (3.0.9)\n",
            "Requirement already satisfied: pytz>=2017.3 in /usr/local/lib/python3.8/dist-packages (from pandas->quickda) (2022.7.1)\n",
            "Requirement already satisfied: jinja2>=2.8 in /usr/local/lib/python3.8/dist-packages (from pandas-profiling->quickda) (2.11.3)\n",
            "Requirement already satisfied: six>=1.9 in /usr/local/lib/python3.8/dist-packages (from pandas-profiling->quickda) (1.15.0)\n",
            "Requirement already satisfied: tenacity>=6.2.0 in /usr/local/lib/python3.8/dist-packages (from plotly->quickda) (8.1.0)\n",
            "Requirement already satisfied: scikit-learn<2.0.0,>=0.20.2 in /usr/local/lib/python3.8/dist-packages (from ppscore->quickda) (1.0.2)\n",
            "Requirement already satisfied: scipy>=1.0 in /usr/local/lib/python3.8/dist-packages (from seaborn->quickda) (1.7.3)\n",
            "Requirement already satisfied: MarkupSafe>=0.23 in /usr/local/lib/python3.8/dist-packages (from jinja2>=2.8->pandas-profiling->quickda) (2.0.1)\n",
            "Requirement already satisfied: joblib>=0.11 in /usr/local/lib/python3.8/dist-packages (from scikit-learn<2.0.0,>=0.20.2->ppscore->quickda) (1.2.0)\n",
            "Requirement already satisfied: threadpoolctl>=2.0.0 in /usr/local/lib/python3.8/dist-packages (from scikit-learn<2.0.0,>=0.20.2->ppscore->quickda) (3.1.0)\n"
          ]
        }
      ]
    },
    {
      "cell_type": "code",
      "execution_count": 8,
      "metadata": {
        "id": "RRQXRyfwhtP_"
      },
      "outputs": [],
      "source": [
        "# Librerías \n",
        "import pandas as pd\n",
        "import numpy as np\n",
        "import matplotlib.pyplot as plt\n",
        "from pandas_profiling import ProfileReport\n",
        "import matplotlib.pyplot as plt\n",
        "import seaborn as sns\n",
        "\n",
        "%matplotlib inline\n",
        "import quickda\n",
        "\n",
        "from quickda.explore_data import *\n",
        "from quickda.clean_data import *\n",
        "from quickda.explore_numeric import *\n",
        "from quickda.explore_categoric import *\n",
        "from quickda.explore_numeric_categoric import *\n",
        "from quickda.explore_time_series import *\n"
      ]
    },
    {
      "cell_type": "code",
      "source": [
        "#Subir archivo\n",
        "datos = pd.read_csv(\"/content/cleaned_data.csv\")"
      ],
      "metadata": {
        "id": "uSLN6BXEKwiv"
      },
      "execution_count": 9,
      "outputs": []
    },
    {
      "cell_type": "markdown",
      "source": [
        "Ahorita empieza la exploracion de datos "
      ],
      "metadata": {
        "id": "xPyQwoM2Vihg"
      }
    },
    {
      "cell_type": "code",
      "source": [
        "#Mostrar Datos\n",
        "datos.head()"
      ],
      "metadata": {
        "colab": {
          "base_uri": "https://localhost:8080/",
          "height": 461
        },
        "id": "QE5GDVFcK3wi",
        "outputId": "b67475e4-a679-4ca0-9766-92417612c645"
      },
      "execution_count": 10,
      "outputs": [
        {
          "output_type": "execute_result",
          "data": {
            "text/plain": [
              "  attendance              away_team  away_team_errors  away_team_hits  \\\n",
              "0      40,03          New York Mets                 1               7   \n",
              "1     21,621  Philadelphia Phillies                 0               5   \n",
              "2     12,622        Minnesota Twins                 0               5   \n",
              "3     18,531   Washington Nationals                 0               8   \n",
              "4     18,572       Colorado Rockies                 1               8   \n",
              "\n",
              "   away_team_runs                                       boxscore_url  \\\n",
              "0               3  https://www.baseball-reference.com/boxes/KCA/K...   \n",
              "1               2  https://www.baseball-reference.com/boxes/CIN/C...   \n",
              "2               2  https://www.baseball-reference.com/boxes/BAL/B...   \n",
              "3               3  https://www.baseball-reference.com/boxes/ATL/A...   \n",
              "4               4  https://www.baseball-reference.com/boxes/ARI/A...   \n",
              "\n",
              "                       date game_duration             game_type  \\\n",
              "0     Sunday, April 3, 2016          3:13  Night Game, on grass   \n",
              "1  Wednesday, April 6, 2016          2:23  Night Game, on grass   \n",
              "2  Wednesday, April 6, 2016          3:11  Night Game, on grass   \n",
              "3  Wednesday, April 6, 2016          2:53  Night Game, on grass   \n",
              "4  Wednesday, April 6, 2016          2:39    Day Game, on grass   \n",
              "\n",
              "              home_team  home_team_errors  home_team_hits  home_team_runs  \\\n",
              "0    Kansas City Royals                 0               9               4   \n",
              "1       Cincinnati Reds                 0               8               3   \n",
              "2     Baltimore Orioles                 0               9               4   \n",
              "3        Atlanta Braves                 1               8               1   \n",
              "4  Arizona Diamondbacks                 0               8               3   \n",
              "\n",
              "                     start_time                        venue  \n",
              "0   Start Time: 7:38 p.m. Local             Kauffman Stadium  \n",
              "1   Start Time: 7:11 p.m. Local     Great American Ball Park  \n",
              "2   Start Time: 7:07 p.m. Local  Oriole Park at Camden Yards  \n",
              "3   Start Time: 7:10 p.m. Local                 Turner Field  \n",
              "4  Start Time: 12:40 p.m. Local                  Chase Field  "
            ],
            "text/html": [
              "\n",
              "  <div id=\"df-618a9a5e-4913-4f9f-970b-91b3f4c57bb8\">\n",
              "    <div class=\"colab-df-container\">\n",
              "      <div>\n",
              "<style scoped>\n",
              "    .dataframe tbody tr th:only-of-type {\n",
              "        vertical-align: middle;\n",
              "    }\n",
              "\n",
              "    .dataframe tbody tr th {\n",
              "        vertical-align: top;\n",
              "    }\n",
              "\n",
              "    .dataframe thead th {\n",
              "        text-align: right;\n",
              "    }\n",
              "</style>\n",
              "<table border=\"1\" class=\"dataframe\">\n",
              "  <thead>\n",
              "    <tr style=\"text-align: right;\">\n",
              "      <th></th>\n",
              "      <th>attendance</th>\n",
              "      <th>away_team</th>\n",
              "      <th>away_team_errors</th>\n",
              "      <th>away_team_hits</th>\n",
              "      <th>away_team_runs</th>\n",
              "      <th>boxscore_url</th>\n",
              "      <th>date</th>\n",
              "      <th>game_duration</th>\n",
              "      <th>game_type</th>\n",
              "      <th>home_team</th>\n",
              "      <th>home_team_errors</th>\n",
              "      <th>home_team_hits</th>\n",
              "      <th>home_team_runs</th>\n",
              "      <th>start_time</th>\n",
              "      <th>venue</th>\n",
              "    </tr>\n",
              "  </thead>\n",
              "  <tbody>\n",
              "    <tr>\n",
              "      <th>0</th>\n",
              "      <td>40,03</td>\n",
              "      <td>New York Mets</td>\n",
              "      <td>1</td>\n",
              "      <td>7</td>\n",
              "      <td>3</td>\n",
              "      <td>https://www.baseball-reference.com/boxes/KCA/K...</td>\n",
              "      <td>Sunday, April 3, 2016</td>\n",
              "      <td>3:13</td>\n",
              "      <td>Night Game, on grass</td>\n",
              "      <td>Kansas City Royals</td>\n",
              "      <td>0</td>\n",
              "      <td>9</td>\n",
              "      <td>4</td>\n",
              "      <td>Start Time: 7:38 p.m. Local</td>\n",
              "      <td>Kauffman Stadium</td>\n",
              "    </tr>\n",
              "    <tr>\n",
              "      <th>1</th>\n",
              "      <td>21,621</td>\n",
              "      <td>Philadelphia Phillies</td>\n",
              "      <td>0</td>\n",
              "      <td>5</td>\n",
              "      <td>2</td>\n",
              "      <td>https://www.baseball-reference.com/boxes/CIN/C...</td>\n",
              "      <td>Wednesday, April 6, 2016</td>\n",
              "      <td>2:23</td>\n",
              "      <td>Night Game, on grass</td>\n",
              "      <td>Cincinnati Reds</td>\n",
              "      <td>0</td>\n",
              "      <td>8</td>\n",
              "      <td>3</td>\n",
              "      <td>Start Time: 7:11 p.m. Local</td>\n",
              "      <td>Great American Ball Park</td>\n",
              "    </tr>\n",
              "    <tr>\n",
              "      <th>2</th>\n",
              "      <td>12,622</td>\n",
              "      <td>Minnesota Twins</td>\n",
              "      <td>0</td>\n",
              "      <td>5</td>\n",
              "      <td>2</td>\n",
              "      <td>https://www.baseball-reference.com/boxes/BAL/B...</td>\n",
              "      <td>Wednesday, April 6, 2016</td>\n",
              "      <td>3:11</td>\n",
              "      <td>Night Game, on grass</td>\n",
              "      <td>Baltimore Orioles</td>\n",
              "      <td>0</td>\n",
              "      <td>9</td>\n",
              "      <td>4</td>\n",
              "      <td>Start Time: 7:07 p.m. Local</td>\n",
              "      <td>Oriole Park at Camden Yards</td>\n",
              "    </tr>\n",
              "    <tr>\n",
              "      <th>3</th>\n",
              "      <td>18,531</td>\n",
              "      <td>Washington Nationals</td>\n",
              "      <td>0</td>\n",
              "      <td>8</td>\n",
              "      <td>3</td>\n",
              "      <td>https://www.baseball-reference.com/boxes/ATL/A...</td>\n",
              "      <td>Wednesday, April 6, 2016</td>\n",
              "      <td>2:53</td>\n",
              "      <td>Night Game, on grass</td>\n",
              "      <td>Atlanta Braves</td>\n",
              "      <td>1</td>\n",
              "      <td>8</td>\n",
              "      <td>1</td>\n",
              "      <td>Start Time: 7:10 p.m. Local</td>\n",
              "      <td>Turner Field</td>\n",
              "    </tr>\n",
              "    <tr>\n",
              "      <th>4</th>\n",
              "      <td>18,572</td>\n",
              "      <td>Colorado Rockies</td>\n",
              "      <td>1</td>\n",
              "      <td>8</td>\n",
              "      <td>4</td>\n",
              "      <td>https://www.baseball-reference.com/boxes/ARI/A...</td>\n",
              "      <td>Wednesday, April 6, 2016</td>\n",
              "      <td>2:39</td>\n",
              "      <td>Day Game, on grass</td>\n",
              "      <td>Arizona Diamondbacks</td>\n",
              "      <td>0</td>\n",
              "      <td>8</td>\n",
              "      <td>3</td>\n",
              "      <td>Start Time: 12:40 p.m. Local</td>\n",
              "      <td>Chase Field</td>\n",
              "    </tr>\n",
              "  </tbody>\n",
              "</table>\n",
              "</div>\n",
              "      <button class=\"colab-df-convert\" onclick=\"convertToInteractive('df-618a9a5e-4913-4f9f-970b-91b3f4c57bb8')\"\n",
              "              title=\"Convert this dataframe to an interactive table.\"\n",
              "              style=\"display:none;\">\n",
              "        \n",
              "  <svg xmlns=\"http://www.w3.org/2000/svg\" height=\"24px\"viewBox=\"0 0 24 24\"\n",
              "       width=\"24px\">\n",
              "    <path d=\"M0 0h24v24H0V0z\" fill=\"none\"/>\n",
              "    <path d=\"M18.56 5.44l.94 2.06.94-2.06 2.06-.94-2.06-.94-.94-2.06-.94 2.06-2.06.94zm-11 1L8.5 8.5l.94-2.06 2.06-.94-2.06-.94L8.5 2.5l-.94 2.06-2.06.94zm10 10l.94 2.06.94-2.06 2.06-.94-2.06-.94-.94-2.06-.94 2.06-2.06.94z\"/><path d=\"M17.41 7.96l-1.37-1.37c-.4-.4-.92-.59-1.43-.59-.52 0-1.04.2-1.43.59L10.3 9.45l-7.72 7.72c-.78.78-.78 2.05 0 2.83L4 21.41c.39.39.9.59 1.41.59.51 0 1.02-.2 1.41-.59l7.78-7.78 2.81-2.81c.8-.78.8-2.07 0-2.86zM5.41 20L4 18.59l7.72-7.72 1.47 1.35L5.41 20z\"/>\n",
              "  </svg>\n",
              "      </button>\n",
              "      \n",
              "  <style>\n",
              "    .colab-df-container {\n",
              "      display:flex;\n",
              "      flex-wrap:wrap;\n",
              "      gap: 12px;\n",
              "    }\n",
              "\n",
              "    .colab-df-convert {\n",
              "      background-color: #E8F0FE;\n",
              "      border: none;\n",
              "      border-radius: 50%;\n",
              "      cursor: pointer;\n",
              "      display: none;\n",
              "      fill: #1967D2;\n",
              "      height: 32px;\n",
              "      padding: 0 0 0 0;\n",
              "      width: 32px;\n",
              "    }\n",
              "\n",
              "    .colab-df-convert:hover {\n",
              "      background-color: #E2EBFA;\n",
              "      box-shadow: 0px 1px 2px rgba(60, 64, 67, 0.3), 0px 1px 3px 1px rgba(60, 64, 67, 0.15);\n",
              "      fill: #174EA6;\n",
              "    }\n",
              "\n",
              "    [theme=dark] .colab-df-convert {\n",
              "      background-color: #3B4455;\n",
              "      fill: #D2E3FC;\n",
              "    }\n",
              "\n",
              "    [theme=dark] .colab-df-convert:hover {\n",
              "      background-color: #434B5C;\n",
              "      box-shadow: 0px 1px 3px 1px rgba(0, 0, 0, 0.15);\n",
              "      filter: drop-shadow(0px 1px 2px rgba(0, 0, 0, 0.3));\n",
              "      fill: #FFFFFF;\n",
              "    }\n",
              "  </style>\n",
              "\n",
              "      <script>\n",
              "        const buttonEl =\n",
              "          document.querySelector('#df-618a9a5e-4913-4f9f-970b-91b3f4c57bb8 button.colab-df-convert');\n",
              "        buttonEl.style.display =\n",
              "          google.colab.kernel.accessAllowed ? 'block' : 'none';\n",
              "\n",
              "        async function convertToInteractive(key) {\n",
              "          const element = document.querySelector('#df-618a9a5e-4913-4f9f-970b-91b3f4c57bb8');\n",
              "          const dataTable =\n",
              "            await google.colab.kernel.invokeFunction('convertToInteractive',\n",
              "                                                     [key], {});\n",
              "          if (!dataTable) return;\n",
              "\n",
              "          const docLinkHtml = 'Like what you see? Visit the ' +\n",
              "            '<a target=\"_blank\" href=https://colab.research.google.com/notebooks/data_table.ipynb>data table notebook</a>'\n",
              "            + ' to learn more about interactive tables.';\n",
              "          element.innerHTML = '';\n",
              "          dataTable['output_type'] = 'display_data';\n",
              "          await google.colab.output.renderOutput(dataTable, element);\n",
              "          const docLink = document.createElement('div');\n",
              "          docLink.innerHTML = docLinkHtml;\n",
              "          element.appendChild(docLink);\n",
              "        }\n",
              "      </script>\n",
              "    </div>\n",
              "  </div>\n",
              "  "
            ]
          },
          "metadata": {},
          "execution_count": 10
        }
      ]
    },
    {
      "cell_type": "code",
      "source": [
        "#Descripcion columnas numericas \n",
        "datos.describe()"
      ],
      "metadata": {
        "colab": {
          "base_uri": "https://localhost:8080/",
          "height": 300
        },
        "id": "kfRMyoSLVseI",
        "outputId": "074d7dfe-72ee-4be7-ba36-bdf6a545f4a9"
      },
      "execution_count": 11,
      "outputs": [
        {
          "output_type": "execute_result",
          "data": {
            "text/plain": [
              "       away_team_errors  away_team_hits  away_team_runs  home_team_errors  \\\n",
              "count       2463.000000     2463.000000     2463.000000       2463.000000   \n",
              "mean           0.580593        8.764515        4.413723          0.585871   \n",
              "std            0.793391        3.511581        3.104556          0.805542   \n",
              "min            0.000000        1.000000        0.000000          0.000000   \n",
              "25%            0.000000        6.000000        2.000000          0.000000   \n",
              "50%            0.000000        8.000000        4.000000          0.000000   \n",
              "75%            1.000000       11.000000        6.000000          1.000000   \n",
              "max            5.000000       22.000000       21.000000          5.000000   \n",
              "\n",
              "       home_team_hits  home_team_runs  \n",
              "count     2463.000000     2463.000000  \n",
              "mean         8.611855        4.519691  \n",
              "std          3.436965        3.111572  \n",
              "min          0.000000        0.000000  \n",
              "25%          6.000000        2.000000  \n",
              "50%          8.000000        4.000000  \n",
              "75%         11.000000        6.000000  \n",
              "max         22.000000       17.000000  "
            ],
            "text/html": [
              "\n",
              "  <div id=\"df-50692347-84db-4476-889e-b11a6089d6ef\">\n",
              "    <div class=\"colab-df-container\">\n",
              "      <div>\n",
              "<style scoped>\n",
              "    .dataframe tbody tr th:only-of-type {\n",
              "        vertical-align: middle;\n",
              "    }\n",
              "\n",
              "    .dataframe tbody tr th {\n",
              "        vertical-align: top;\n",
              "    }\n",
              "\n",
              "    .dataframe thead th {\n",
              "        text-align: right;\n",
              "    }\n",
              "</style>\n",
              "<table border=\"1\" class=\"dataframe\">\n",
              "  <thead>\n",
              "    <tr style=\"text-align: right;\">\n",
              "      <th></th>\n",
              "      <th>away_team_errors</th>\n",
              "      <th>away_team_hits</th>\n",
              "      <th>away_team_runs</th>\n",
              "      <th>home_team_errors</th>\n",
              "      <th>home_team_hits</th>\n",
              "      <th>home_team_runs</th>\n",
              "    </tr>\n",
              "  </thead>\n",
              "  <tbody>\n",
              "    <tr>\n",
              "      <th>count</th>\n",
              "      <td>2463.000000</td>\n",
              "      <td>2463.000000</td>\n",
              "      <td>2463.000000</td>\n",
              "      <td>2463.000000</td>\n",
              "      <td>2463.000000</td>\n",
              "      <td>2463.000000</td>\n",
              "    </tr>\n",
              "    <tr>\n",
              "      <th>mean</th>\n",
              "      <td>0.580593</td>\n",
              "      <td>8.764515</td>\n",
              "      <td>4.413723</td>\n",
              "      <td>0.585871</td>\n",
              "      <td>8.611855</td>\n",
              "      <td>4.519691</td>\n",
              "    </tr>\n",
              "    <tr>\n",
              "      <th>std</th>\n",
              "      <td>0.793391</td>\n",
              "      <td>3.511581</td>\n",
              "      <td>3.104556</td>\n",
              "      <td>0.805542</td>\n",
              "      <td>3.436965</td>\n",
              "      <td>3.111572</td>\n",
              "    </tr>\n",
              "    <tr>\n",
              "      <th>min</th>\n",
              "      <td>0.000000</td>\n",
              "      <td>1.000000</td>\n",
              "      <td>0.000000</td>\n",
              "      <td>0.000000</td>\n",
              "      <td>0.000000</td>\n",
              "      <td>0.000000</td>\n",
              "    </tr>\n",
              "    <tr>\n",
              "      <th>25%</th>\n",
              "      <td>0.000000</td>\n",
              "      <td>6.000000</td>\n",
              "      <td>2.000000</td>\n",
              "      <td>0.000000</td>\n",
              "      <td>6.000000</td>\n",
              "      <td>2.000000</td>\n",
              "    </tr>\n",
              "    <tr>\n",
              "      <th>50%</th>\n",
              "      <td>0.000000</td>\n",
              "      <td>8.000000</td>\n",
              "      <td>4.000000</td>\n",
              "      <td>0.000000</td>\n",
              "      <td>8.000000</td>\n",
              "      <td>4.000000</td>\n",
              "    </tr>\n",
              "    <tr>\n",
              "      <th>75%</th>\n",
              "      <td>1.000000</td>\n",
              "      <td>11.000000</td>\n",
              "      <td>6.000000</td>\n",
              "      <td>1.000000</td>\n",
              "      <td>11.000000</td>\n",
              "      <td>6.000000</td>\n",
              "    </tr>\n",
              "    <tr>\n",
              "      <th>max</th>\n",
              "      <td>5.000000</td>\n",
              "      <td>22.000000</td>\n",
              "      <td>21.000000</td>\n",
              "      <td>5.000000</td>\n",
              "      <td>22.000000</td>\n",
              "      <td>17.000000</td>\n",
              "    </tr>\n",
              "  </tbody>\n",
              "</table>\n",
              "</div>\n",
              "      <button class=\"colab-df-convert\" onclick=\"convertToInteractive('df-50692347-84db-4476-889e-b11a6089d6ef')\"\n",
              "              title=\"Convert this dataframe to an interactive table.\"\n",
              "              style=\"display:none;\">\n",
              "        \n",
              "  <svg xmlns=\"http://www.w3.org/2000/svg\" height=\"24px\"viewBox=\"0 0 24 24\"\n",
              "       width=\"24px\">\n",
              "    <path d=\"M0 0h24v24H0V0z\" fill=\"none\"/>\n",
              "    <path d=\"M18.56 5.44l.94 2.06.94-2.06 2.06-.94-2.06-.94-.94-2.06-.94 2.06-2.06.94zm-11 1L8.5 8.5l.94-2.06 2.06-.94-2.06-.94L8.5 2.5l-.94 2.06-2.06.94zm10 10l.94 2.06.94-2.06 2.06-.94-2.06-.94-.94-2.06-.94 2.06-2.06.94z\"/><path d=\"M17.41 7.96l-1.37-1.37c-.4-.4-.92-.59-1.43-.59-.52 0-1.04.2-1.43.59L10.3 9.45l-7.72 7.72c-.78.78-.78 2.05 0 2.83L4 21.41c.39.39.9.59 1.41.59.51 0 1.02-.2 1.41-.59l7.78-7.78 2.81-2.81c.8-.78.8-2.07 0-2.86zM5.41 20L4 18.59l7.72-7.72 1.47 1.35L5.41 20z\"/>\n",
              "  </svg>\n",
              "      </button>\n",
              "      \n",
              "  <style>\n",
              "    .colab-df-container {\n",
              "      display:flex;\n",
              "      flex-wrap:wrap;\n",
              "      gap: 12px;\n",
              "    }\n",
              "\n",
              "    .colab-df-convert {\n",
              "      background-color: #E8F0FE;\n",
              "      border: none;\n",
              "      border-radius: 50%;\n",
              "      cursor: pointer;\n",
              "      display: none;\n",
              "      fill: #1967D2;\n",
              "      height: 32px;\n",
              "      padding: 0 0 0 0;\n",
              "      width: 32px;\n",
              "    }\n",
              "\n",
              "    .colab-df-convert:hover {\n",
              "      background-color: #E2EBFA;\n",
              "      box-shadow: 0px 1px 2px rgba(60, 64, 67, 0.3), 0px 1px 3px 1px rgba(60, 64, 67, 0.15);\n",
              "      fill: #174EA6;\n",
              "    }\n",
              "\n",
              "    [theme=dark] .colab-df-convert {\n",
              "      background-color: #3B4455;\n",
              "      fill: #D2E3FC;\n",
              "    }\n",
              "\n",
              "    [theme=dark] .colab-df-convert:hover {\n",
              "      background-color: #434B5C;\n",
              "      box-shadow: 0px 1px 3px 1px rgba(0, 0, 0, 0.15);\n",
              "      filter: drop-shadow(0px 1px 2px rgba(0, 0, 0, 0.3));\n",
              "      fill: #FFFFFF;\n",
              "    }\n",
              "  </style>\n",
              "\n",
              "      <script>\n",
              "        const buttonEl =\n",
              "          document.querySelector('#df-50692347-84db-4476-889e-b11a6089d6ef button.colab-df-convert');\n",
              "        buttonEl.style.display =\n",
              "          google.colab.kernel.accessAllowed ? 'block' : 'none';\n",
              "\n",
              "        async function convertToInteractive(key) {\n",
              "          const element = document.querySelector('#df-50692347-84db-4476-889e-b11a6089d6ef');\n",
              "          const dataTable =\n",
              "            await google.colab.kernel.invokeFunction('convertToInteractive',\n",
              "                                                     [key], {});\n",
              "          if (!dataTable) return;\n",
              "\n",
              "          const docLinkHtml = 'Like what you see? Visit the ' +\n",
              "            '<a target=\"_blank\" href=https://colab.research.google.com/notebooks/data_table.ipynb>data table notebook</a>'\n",
              "            + ' to learn more about interactive tables.';\n",
              "          element.innerHTML = '';\n",
              "          dataTable['output_type'] = 'display_data';\n",
              "          await google.colab.output.renderOutput(dataTable, element);\n",
              "          const docLink = document.createElement('div');\n",
              "          docLink.innerHTML = docLinkHtml;\n",
              "          element.appendChild(docLink);\n",
              "        }\n",
              "      </script>\n",
              "    </div>\n",
              "  </div>\n",
              "  "
            ]
          },
          "metadata": {},
          "execution_count": 11
        }
      ]
    },
    {
      "cell_type": "code",
      "source": [
        "#Tipos de datos:\n",
        "datos.dtypes"
      ],
      "metadata": {
        "colab": {
          "base_uri": "https://localhost:8080/"
        },
        "id": "tdlw7-2Oaa52",
        "outputId": "9a35c916-d08d-42ba-ea9a-718a06257356"
      },
      "execution_count": 12,
      "outputs": [
        {
          "output_type": "execute_result",
          "data": {
            "text/plain": [
              "attendance          object\n",
              "away_team           object\n",
              "away_team_errors     int64\n",
              "away_team_hits       int64\n",
              "away_team_runs       int64\n",
              "boxscore_url        object\n",
              "date                object\n",
              "game_duration       object\n",
              "game_type           object\n",
              "home_team           object\n",
              "home_team_errors     int64\n",
              "home_team_hits       int64\n",
              "home_team_runs       int64\n",
              "start_time          object\n",
              "venue               object\n",
              "dtype: object"
            ]
          },
          "metadata": {},
          "execution_count": 12
        }
      ]
    },
    {
      "cell_type": "markdown",
      "source": [
        "cualitativa o categórica, cuantitativa continua, cuantitativa discreta\n",
        "\n",
        "attendance : cuantitativa discreta\n",
        "\n",
        "away team: categorica\n",
        "\n",
        "away team errors: cuantitativa continua\n",
        "\n",
        "away_team_hits: cuantitativa continua\n",
        "\n",
        "away_team_runs: cuantitativa continua\n",
        "\n",
        "boxscore_url: cualitativa\n",
        "\n",
        "date: cualitativa\n",
        "\n",
        "game_duration\t: cuantitativa discreta\n",
        "\n",
        "game_type\t: cualitativa\n",
        "\n",
        "home_team\t: categorica\n",
        "\n",
        "home_team_errors: cuantitativa continua\n",
        "\n",
        "home_team_hits: cuantitativa continua\n",
        "\n",
        "home_team_runs: cuantitativa continua\n",
        "\n",
        "start_time\t: cuantitativa discreta\n",
        "\n",
        "venue: cualitativa "
      ],
      "metadata": {
        "id": "mpSNvjSAahn1"
      }
    },
    {
      "cell_type": "code",
      "source": [
        "# gráficos exploratorios de attendance\n",
        "sns.displot(datos['attendance'])\n"
      ],
      "metadata": {
        "colab": {
          "base_uri": "https://localhost:8080/",
          "height": 386
        },
        "id": "AP8hbhKUangU",
        "outputId": "0dbcc9e9-156c-4550-f458-f5c3daaa1d65"
      },
      "execution_count": 13,
      "outputs": [
        {
          "output_type": "execute_result",
          "data": {
            "text/plain": [
              "<seaborn.axisgrid.FacetGrid at 0x7f8680b025e0>"
            ]
          },
          "metadata": {},
          "execution_count": 13
        },
        {
          "output_type": "display_data",
          "data": {
            "text/plain": [
              "<Figure size 360x360 with 1 Axes>"
            ],
            "image/png": "[encoded data removed]"
          },
          "metadata": {
            "needs_background": "light"
          }
        }
      ]
    },
    {
      "cell_type": "code",
      "source": [
        "#Grafico exploratorio de cantidad de veces encestadas por los equipos away\n",
        "sns.countplot(x = 'away_team_hits', data = datos);"
      ],
      "metadata": {
        "colab": {
          "base_uri": "https://localhost:8080/",
          "height": 285
        },
        "id": "pz8QGjtXfwE2",
        "outputId": "a36fb9b1-9d7d-45f4-ee67-66ccc30c94a1"
      },
      "execution_count": 14,
      "outputs": [
        {
          "output_type": "display_data",
          "data": {
            "text/plain": [
              "<Figure size 432x288 with 1 Axes>"
            ],
            "image/png": "[encoded data removed]"
          },
          "metadata": {
            "needs_background": "light"
          }
        }
      ]
    },
    {
      "cell_type": "code",
      "source": [
        "#grafica de cuantos errores comete el equipo away\n",
        "sns.displot(datos['away_team_errors'])"
      ],
      "metadata": {
        "colab": {
          "base_uri": "https://localhost:8080/",
          "height": 386
        },
        "id": "8z1A96Zbilua",
        "outputId": "f6cfd0ba-2744-4fcc-c789-a46a299fec81"
      },
      "execution_count": 15,
      "outputs": [
        {
          "output_type": "execute_result",
          "data": {
            "text/plain": [
              "<seaborn.axisgrid.FacetGrid at 0x7f867cb0d220>"
            ]
          },
          "metadata": {},
          "execution_count": 15
        },
        {
          "output_type": "display_data",
          "data": {
            "text/plain": [
              "<Figure size 360x360 with 1 Axes>"
            ],
            "image/png": "[encoded data removed]"
          },
          "metadata": {
            "needs_background": "light"
          }
        }
      ]
    },
    {
      "cell_type": "code",
      "source": [
        "#Todos los datos en gráficas\n",
        "sns.pairplot(datos)"
      ],
      "metadata": {
        "colab": {
          "base_uri": "https://localhost:8080/",
          "height": 1000
        },
        "id": "vavxHJ4-gEdk",
        "outputId": "e7032e6d-fe7e-4fee-dec2-759a93ac4feb"
      },
      "execution_count": 16,
      "outputs": [
        {
          "output_type": "execute_result",
          "data": {
            "text/plain": [
              "<seaborn.axisgrid.PairGrid at 0x7f867bc3bd60>"
            ]
          },
          "metadata": {},
          "execution_count": 16
        },
        {
          "output_type": "display_data",
          "data": {
            "text/plain": [
              "<Figure size 1080x1080 with 42 Axes>"
            ],
            "image/png": "[encoded data removed]"
          },
          "metadata": {
            "needs_background": "light"
          }
        }
      ]
    },
    {
      "cell_type": "markdown",
      "source": [
        "1.4"
      ],
      "metadata": {
        "id": "f13WatnRxRNz"
      }
    },
    {
      "cell_type": "code",
      "source": [
        "#analisis correlacion\n",
        "#se separan los datos cuantitativos\n",
        "cuantitativos = datos.select_dtypes(include=['int', 'float'])\n",
        "#los datos cualitativos\n",
        "cualitativos = datos.select_dtypes(exclude=['int', 'float'])\n",
        "\n",
        "#para la correlacion seaborn tiene la funcion corr\n",
        "correlacion  = cuantitativos.corr()\n",
        "\n",
        "#El famoso heatmap\n",
        "sns.heatmap(correlacion, annot=True)\n"
      ],
      "metadata": {
        "colab": {
          "base_uri": "https://localhost:8080/",
          "height": 383
        },
        "id": "2nijZxjjxSqg",
        "outputId": "ef2bff34-d212-4d87-ee73-3f36e5f08eff"
      },
      "execution_count": 17,
      "outputs": [
        {
          "output_type": "execute_result",
          "data": {
            "text/plain": [
              "<matplotlib.axes._subplots.AxesSubplot at 0x7f867a6f1760>"
            ]
          },
          "metadata": {},
          "execution_count": 17
        },
        {
          "output_type": "display_data",
          "data": {
            "text/plain": [
              "<Figure size 432x288 with 2 Axes>"
            ],
            "image/png": "[encoded data removed]"
          },
          "metadata": {
            "needs_background": "light"
          }
        }
      ]
    },
    {
      "cell_type": "markdown",
      "source": [
        "1.5\n"
      ],
      "metadata": {
        "id": "0YkogkxUi6_o"
      }
    },
    {
      "cell_type": "code",
      "source": [
        "cualitativos.info()"
      ],
      "metadata": {
        "colab": {
          "base_uri": "https://localhost:8080/"
        },
        "id": "8CHc0glwi8qf",
        "outputId": "1face0cf-f405-480d-911a-5e957c5f173f"
      },
      "execution_count": 18,
      "outputs": [
        {
          "output_type": "stream",
          "name": "stdout",
          "text": [
            "<class 'pandas.core.frame.DataFrame'>\n",
            "RangeIndex: 2463 entries, 0 to 2462\n",
            "Data columns (total 9 columns):\n",
            " #   Column         Non-Null Count  Dtype \n",
            "---  ------         --------------  ----- \n",
            " 0   attendance     2463 non-null   object\n",
            " 1   away_team      2463 non-null   object\n",
            " 2   boxscore_url   2463 non-null   object\n",
            " 3   date           2463 non-null   object\n",
            " 4   game_duration  2463 non-null   object\n",
            " 5   game_type      2460 non-null   object\n",
            " 6   home_team      2463 non-null   object\n",
            " 7   start_time     2463 non-null   object\n",
            " 8   venue          2463 non-null   object\n",
            "dtypes: object(9)\n",
            "memory usage: 173.3+ KB\n"
          ]
        }
      ]
    },
    {
      "cell_type": "code",
      "source": [
        "#Valores de puntos por equipos contrarios y de casa\n",
        "cualitativos['away_team'].value_counts()\n"
      ],
      "metadata": {
        "colab": {
          "base_uri": "https://localhost:8080/"
        },
        "id": "xZl69RxYjMhc",
        "outputId": "29183db0-2584-42e5-afe3-8017464682a0"
      },
      "execution_count": 19,
      "outputs": [
        {
          "output_type": "execute_result",
          "data": {
            "text/plain": [
              "Chicago Cubs                     90\n",
              "Cleveland Indians                87\n",
              "Los Angeles Dodgers              87\n",
              "Toronto Blue Jays                85\n",
              "San Francisco Giants             84\n",
              "Boston Red Sox                   83\n",
              "Washington Nationals             83\n",
              "Baltimore Orioles                82\n",
              "Texas Rangers                    82\n",
              "Cincinnati Reds                  81\n",
              "New York Yankees                 81\n",
              "New York Mets                    81\n",
              "Arizona Diamondbacks             81\n",
              "Milwaukee Brewers                81\n",
              "Kansas City Royals               81\n",
              "Oakland Athletics                81\n",
              "Pittsburgh Pirates               81\n",
              "Los Angeles Angels of Anaheim    81\n",
              "Miami Marlins                    81\n",
              "Philadelphia Phillies            81\n",
              "San Diego Padres                 81\n",
              "Detroit Tigers                   81\n",
              "Houston Astros                   81\n",
              "Chicago White Sox                81\n",
              "St. Louis Cardinals              81\n",
              "Seattle Mariners                 81\n",
              "Colorado Rockies                 81\n",
              "Minnesota Twins                  81\n",
              "Tampa Bay Rays                   81\n",
              "Atlanta Braves                   80\n",
              "Name: away_team, dtype: int64"
            ]
          },
          "metadata": {},
          "execution_count": 19
        }
      ]
    },
    {
      "cell_type": "code",
      "source": [
        "cualitativos['home_team'].value_counts()"
      ],
      "metadata": {
        "colab": {
          "base_uri": "https://localhost:8080/"
        },
        "id": "SBQNqoqTjiMR",
        "outputId": "53f2280b-a93f-4c84-b7eb-3b1c52338b72"
      },
      "execution_count": 20,
      "outputs": [
        {
          "output_type": "execute_result",
          "data": {
            "text/plain": [
              "Cleveland Indians                89\n",
              "Chicago Cubs                     89\n",
              "Los Angeles Dodgers              86\n",
              "Toronto Blue Jays                86\n",
              "Washington Nationals             84\n",
              "Texas Rangers                    83\n",
              "San Francisco Giants             83\n",
              "New York Mets                    82\n",
              "Boston Red Sox                   82\n",
              "Cincinnati Reds                  81\n",
              "Chicago White Sox                81\n",
              "St. Louis Cardinals              81\n",
              "Colorado Rockies                 81\n",
              "Houston Astros                   81\n",
              "Minnesota Twins                  81\n",
              "Kansas City Royals               81\n",
              "Philadelphia Phillies            81\n",
              "Seattle Mariners                 81\n",
              "Milwaukee Brewers                81\n",
              "New York Yankees                 81\n",
              "Oakland Athletics                81\n",
              "Pittsburgh Pirates               81\n",
              "San Diego Padres                 81\n",
              "Tampa Bay Rays                   81\n",
              "Arizona Diamondbacks             81\n",
              "Atlanta Braves                   81\n",
              "Baltimore Orioles                81\n",
              "Los Angeles Angels of Anaheim    81\n",
              "Detroit Tigers                   80\n",
              "Miami Marlins                    80\n",
              "Name: home_team, dtype: int64"
            ]
          },
          "metadata": {},
          "execution_count": 20
        }
      ]
    },
    {
      "cell_type": "code",
      "source": [
        "#Mejor equipo home\n",
        "cualitativos['home_team'].max()"
      ],
      "metadata": {
        "colab": {
          "base_uri": "https://localhost:8080/",
          "height": 36
        },
        "id": "U4HZbhiajkTG",
        "outputId": "89fb85cd-a700-4bca-89c5-8b81c50f21ef"
      },
      "execution_count": 21,
      "outputs": [
        {
          "output_type": "execute_result",
          "data": {
            "text/plain": [
              "'Washington Nationals'"
            ],
            "application/vnd.google.colaboratory.intrinsic+json": {
              "type": "string"
            }
          },
          "metadata": {},
          "execution_count": 21
        }
      ]
    },
    {
      "cell_type": "code",
      "source": [
        "#Mejor equipo away\n",
        "cualitativos['away_team'].max()"
      ],
      "metadata": {
        "colab": {
          "base_uri": "https://localhost:8080/",
          "height": 36
        },
        "id": "zKgluLQajqig",
        "outputId": "d30ea7c2-327a-4264-f112-ca4fd83b8328"
      },
      "execution_count": 22,
      "outputs": [
        {
          "output_type": "execute_result",
          "data": {
            "text/plain": [
              "'Washington Nationals'"
            ],
            "application/vnd.google.colaboratory.intrinsic+json": {
              "type": "string"
            }
          },
          "metadata": {},
          "execution_count": 22
        }
      ]
    },
    {
      "cell_type": "code",
      "source": [
        "#venues más usadas\n",
        "sns.displot(cualitativos['venue'])"
      ],
      "metadata": {
        "colab": {
          "base_uri": "https://localhost:8080/",
          "height": 386
        },
        "id": "5Y_oyr52jumP",
        "outputId": "45c0f61e-6184-4c1b-fff4-eef92758fa02"
      },
      "execution_count": 23,
      "outputs": [
        {
          "output_type": "execute_result",
          "data": {
            "text/plain": [
              "<seaborn.axisgrid.FacetGrid at 0x7f867a679190>"
            ]
          },
          "metadata": {},
          "execution_count": 23
        },
        {
          "output_type": "display_data",
          "data": {
            "text/plain": [
              "<Figure size 360x360 with 1 Axes>"
            ],
            "image/png": "[encoded data removed]"
          },
          "metadata": {
            "needs_background": "light"
          }
        }
      ]
    },
    {
      "cell_type": "code",
      "source": [
        "#duracion de los juegos \n",
        "sns.countplot(x = 'game_duration', data = cualitativos);"
      ],
      "metadata": {
        "colab": {
          "base_uri": "https://localhost:8080/",
          "height": 285
        },
        "id": "fhIYRIxPkSS_",
        "outputId": "f8c96fb4-aada-4439-dcb5-e65c1b0eff24"
      },
      "execution_count": 24,
      "outputs": [
        {
          "output_type": "display_data",
          "data": {
            "text/plain": [
              "<Figure size 432x288 with 1 Axes>"
            ],
            "image/png": "[encoded data removed]"
          },
          "metadata": {
            "needs_background": "light"
          }
        }
      ]
    },
    {
      "cell_type": "markdown",
      "source": [
        "1.6"
      ],
      "metadata": {
        "id": "b8ciHtMDklhx"
      }
    },
    {
      "cell_type": "code",
      "source": [
        "#Como la columna field type esta vacia se elimina en los cuantitativos\n",
        "cuantitativos = clean(cuantitativos, method = 'dropcols', columns = ['field_type'])"
      ],
      "metadata": {
        "id": "9KKFmyO9knR8"
      },
      "execution_count": 25,
      "outputs": []
    },
    {
      "cell_type": "code",
      "source": [
        "#se borran los datos vacios\n",
        "cuantitativos = cuantitativos.dropna()"
      ],
      "metadata": {
        "id": "b93HEooSlb47"
      },
      "execution_count": 26,
      "outputs": []
    },
    {
      "cell_type": "code",
      "source": [
        "#En los cualitativos se van a borrar la columna other string info\n",
        "cualitativos = clean(cualitativos, method = 'dropcols', columns = ['other_info_string'])"
      ],
      "metadata": {
        "id": "fdYRDHNzk-j1"
      },
      "execution_count": 27,
      "outputs": []
    },
    {
      "cell_type": "code",
      "source": [
        "#en los cualitativos tambien se borran datos vacios\n",
        "cualitativos = cualitativos.dropna()"
      ],
      "metadata": {
        "id": "bRHdYaJelUpb"
      },
      "execution_count": 28,
      "outputs": []
    },
    {
      "cell_type": "code",
      "source": [
        "#base de los cuantitativos\n",
        "explore(cuantitativos, method=\"summarize\")"
      ],
      "metadata": {
        "colab": {
          "base_uri": "https://localhost:8080/",
          "height": 237
        },
        "id": "BCswFh3NlhVj",
        "outputId": "5536f801-36d5-4d89-84fc-d53a68b2c8b0"
      },
      "execution_count": 29,
      "outputs": [
        {
          "output_type": "execute_result",
          "data": {
            "text/plain": [
              "                 dtypes  count  null_sum  null_pct  nunique  min  25%  50%  \\\n",
              "away_team_errors  int64   2463         0       0.0        6    0  0.0  0.0   \n",
              "away_team_hits    int64   2463         0       0.0       22    1  6.0  8.0   \n",
              "away_team_runs    int64   2463         0       0.0       20    0  2.0  4.0   \n",
              "home_team_errors  int64   2463         0       0.0        6    0  0.0  0.0   \n",
              "home_team_hits    int64   2463         0       0.0       23    0  6.0  8.0   \n",
              "home_team_runs    int64   2463         0       0.0       18    0  2.0  4.0   \n",
              "\n",
              "                   75%  max   mean  median    std   skew  \n",
              "away_team_errors   1.0    5  0.581     0.0  0.793  1.456  \n",
              "away_team_hits    11.0   22  8.765     8.0  3.512  0.514  \n",
              "away_team_runs     6.0   21  4.414     4.0  3.105  0.939  \n",
              "home_team_errors   1.0    5  0.586     0.0  0.806  1.442  \n",
              "home_team_hits    11.0   22  8.612     8.0  3.437  0.476  \n",
              "home_team_runs     6.0   17  4.520     4.0  3.112  0.920  "
            ],
            "text/html": [
              "\n",
              "  <div id=\"df-30d47d69-4ee8-48f3-bf61-e559c4f2c47b\">\n",
              "    <div class=\"colab-df-container\">\n",
              "      <div>\n",
              "<style scoped>\n",
              "    .dataframe tbody tr th:only-of-type {\n",
              "        vertical-align: middle;\n",
              "    }\n",
              "\n",
              "    .dataframe tbody tr th {\n",
              "        vertical-align: top;\n",
              "    }\n",
              "\n",
              "    .dataframe thead th {\n",
              "        text-align: right;\n",
              "    }\n",
              "</style>\n",
              "<table border=\"1\" class=\"dataframe\">\n",
              "  <thead>\n",
              "    <tr style=\"text-align: right;\">\n",
              "      <th></th>\n",
              "      <th>dtypes</th>\n",
              "      <th>count</th>\n",
              "      <th>null_sum</th>\n",
              "      <th>null_pct</th>\n",
              "      <th>nunique</th>\n",
              "      <th>min</th>\n",
              "      <th>25%</th>\n",
              "      <th>50%</th>\n",
              "      <th>75%</th>\n",
              "      <th>max</th>\n",
              "      <th>mean</th>\n",
              "      <th>median</th>\n",
              "      <th>std</th>\n",
              "      <th>skew</th>\n",
              "    </tr>\n",
              "  </thead>\n",
              "  <tbody>\n",
              "    <tr>\n",
              "      <th>away_team_errors</th>\n",
              "      <td>int64</td>\n",
              "      <td>2463</td>\n",
              "      <td>0</td>\n",
              "      <td>0.0</td>\n",
              "      <td>6</td>\n",
              "      <td>0</td>\n",
              "      <td>0.0</td>\n",
              "      <td>0.0</td>\n",
              "      <td>1.0</td>\n",
              "      <td>5</td>\n",
              "      <td>0.581</td>\n",
              "      <td>0.0</td>\n",
              "      <td>0.793</td>\n",
              "      <td>1.456</td>\n",
              "    </tr>\n",
              "    <tr>\n",
              "      <th>away_team_hits</th>\n",
              "      <td>int64</td>\n",
              "      <td>2463</td>\n",
              "      <td>0</td>\n",
              "      <td>0.0</td>\n",
              "      <td>22</td>\n",
              "      <td>1</td>\n",
              "      <td>6.0</td>\n",
              "      <td>8.0</td>\n",
              "      <td>11.0</td>\n",
              "      <td>22</td>\n",
              "      <td>8.765</td>\n",
              "      <td>8.0</td>\n",
              "      <td>3.512</td>\n",
              "      <td>0.514</td>\n",
              "    </tr>\n",
              "    <tr>\n",
              "      <th>away_team_runs</th>\n",
              "      <td>int64</td>\n",
              "      <td>2463</td>\n",
              "      <td>0</td>\n",
              "      <td>0.0</td>\n",
              "      <td>20</td>\n",
              "      <td>0</td>\n",
              "      <td>2.0</td>\n",
              "      <td>4.0</td>\n",
              "      <td>6.0</td>\n",
              "      <td>21</td>\n",
              "      <td>4.414</td>\n",
              "      <td>4.0</td>\n",
              "      <td>3.105</td>\n",
              "      <td>0.939</td>\n",
              "    </tr>\n",
              "    <tr>\n",
              "      <th>home_team_errors</th>\n",
              "      <td>int64</td>\n",
              "      <td>2463</td>\n",
              "      <td>0</td>\n",
              "      <td>0.0</td>\n",
              "      <td>6</td>\n",
              "      <td>0</td>\n",
              "      <td>0.0</td>\n",
              "      <td>0.0</td>\n",
              "      <td>1.0</td>\n",
              "      <td>5</td>\n",
              "      <td>0.586</td>\n",
              "      <td>0.0</td>\n",
              "      <td>0.806</td>\n",
              "      <td>1.442</td>\n",
              "    </tr>\n",
              "    <tr>\n",
              "      <th>home_team_hits</th>\n",
              "      <td>int64</td>\n",
              "      <td>2463</td>\n",
              "      <td>0</td>\n",
              "      <td>0.0</td>\n",
              "      <td>23</td>\n",
              "      <td>0</td>\n",
              "      <td>6.0</td>\n",
              "      <td>8.0</td>\n",
              "      <td>11.0</td>\n",
              "      <td>22</td>\n",
              "      <td>8.612</td>\n",
              "      <td>8.0</td>\n",
              "      <td>3.437</td>\n",
              "      <td>0.476</td>\n",
              "    </tr>\n",
              "    <tr>\n",
              "      <th>home_team_runs</th>\n",
              "      <td>int64</td>\n",
              "      <td>2463</td>\n",
              "      <td>0</td>\n",
              "      <td>0.0</td>\n",
              "      <td>18</td>\n",
              "      <td>0</td>\n",
              "      <td>2.0</td>\n",
              "      <td>4.0</td>\n",
              "      <td>6.0</td>\n",
              "      <td>17</td>\n",
              "      <td>4.520</td>\n",
              "      <td>4.0</td>\n",
              "      <td>3.112</td>\n",
              "      <td>0.920</td>\n",
              "    </tr>\n",
              "  </tbody>\n",
              "</table>\n",
              "</div>\n",
              "      <button class=\"colab-df-convert\" onclick=\"convertToInteractive('df-30d47d69-4ee8-48f3-bf61-e559c4f2c47b')\"\n",
              "              title=\"Convert this dataframe to an interactive table.\"\n",
              "              style=\"display:none;\">\n",
              "        \n",
              "  <svg xmlns=\"http://www.w3.org/2000/svg\" height=\"24px\"viewBox=\"0 0 24 24\"\n",
              "       width=\"24px\">\n",
              "    <path d=\"M0 0h24v24H0V0z\" fill=\"none\"/>\n",
              "    <path d=\"M18.56 5.44l.94 2.06.94-2.06 2.06-.94-2.06-.94-.94-2.06-.94 2.06-2.06.94zm-11 1L8.5 8.5l.94-2.06 2.06-.94-2.06-.94L8.5 2.5l-.94 2.06-2.06.94zm10 10l.94 2.06.94-2.06 2.06-.94-2.06-.94-.94-2.06-.94 2.06-2.06.94z\"/><path d=\"M17.41 7.96l-1.37-1.37c-.4-.4-.92-.59-1.43-.59-.52 0-1.04.2-1.43.59L10.3 9.45l-7.72 7.72c-.78.78-.78 2.05 0 2.83L4 21.41c.39.39.9.59 1.41.59.51 0 1.02-.2 1.41-.59l7.78-7.78 2.81-2.81c.8-.78.8-2.07 0-2.86zM5.41 20L4 18.59l7.72-7.72 1.47 1.35L5.41 20z\"/>\n",
              "  </svg>\n",
              "      </button>\n",
              "      \n",
              "  <style>\n",
              "    .colab-df-container {\n",
              "      display:flex;\n",
              "      flex-wrap:wrap;\n",
              "      gap: 12px;\n",
              "    }\n",
              "\n",
              "    .colab-df-convert {\n",
              "      background-color: #E8F0FE;\n",
              "      border: none;\n",
              "      border-radius: 50%;\n",
              "      cursor: pointer;\n",
              "      display: none;\n",
              "      fill: #1967D2;\n",
              "      height: 32px;\n",
              "      padding: 0 0 0 0;\n",
              "      width: 32px;\n",
              "    }\n",
              "\n",
              "    .colab-df-convert:hover {\n",
              "      background-color: #E2EBFA;\n",
              "      box-shadow: 0px 1px 2px rgba(60, 64, 67, 0.3), 0px 1px 3px 1px rgba(60, 64, 67, 0.15);\n",
              "      fill: #174EA6;\n",
              "    }\n",
              "\n",
              "    [theme=dark] .colab-df-convert {\n",
              "      background-color: #3B4455;\n",
              "      fill: #D2E3FC;\n",
              "    }\n",
              "\n",
              "    [theme=dark] .colab-df-convert:hover {\n",
              "      background-color: #434B5C;\n",
              "      box-shadow: 0px 1px 3px 1px rgba(0, 0, 0, 0.15);\n",
              "      filter: drop-shadow(0px 1px 2px rgba(0, 0, 0, 0.3));\n",
              "      fill: #FFFFFF;\n",
              "    }\n",
              "  </style>\n",
              "\n",
              "      <script>\n",
              "        const buttonEl =\n",
              "          document.querySelector('#df-30d47d69-4ee8-48f3-bf61-e559c4f2c47b button.colab-df-convert');\n",
              "        buttonEl.style.display =\n",
              "          google.colab.kernel.accessAllowed ? 'block' : 'none';\n",
              "\n",
              "        async function convertToInteractive(key) {\n",
              "          const element = document.querySelector('#df-30d47d69-4ee8-48f3-bf61-e559c4f2c47b');\n",
              "          const dataTable =\n",
              "            await google.colab.kernel.invokeFunction('convertToInteractive',\n",
              "                                                     [key], {});\n",
              "          if (!dataTable) return;\n",
              "\n",
              "          const docLinkHtml = 'Like what you see? Visit the ' +\n",
              "            '<a target=\"_blank\" href=https://colab.research.google.com/notebooks/data_table.ipynb>data table notebook</a>'\n",
              "            + ' to learn more about interactive tables.';\n",
              "          element.innerHTML = '';\n",
              "          dataTable['output_type'] = 'display_data';\n",
              "          await google.colab.output.renderOutput(dataTable, element);\n",
              "          const docLink = document.createElement('div');\n",
              "          docLink.innerHTML = docLinkHtml;\n",
              "          element.appendChild(docLink);\n",
              "        }\n",
              "      </script>\n",
              "    </div>\n",
              "  </div>\n",
              "  "
            ]
          },
          "metadata": {},
          "execution_count": 29
        }
      ]
    },
    {
      "cell_type": "code",
      "source": [
        "#base cualitativos\n",
        "explore(cualitativos, method=\"summarize\")"
      ],
      "metadata": {
        "colab": {
          "base_uri": "https://localhost:8080/",
          "height": 393
        },
        "id": "aMb_KMGylmXj",
        "outputId": "147657f2-790c-493c-9ba3-3e655e703551"
      },
      "execution_count": 30,
      "outputs": [
        {
          "output_type": "execute_result",
          "data": {
            "text/plain": [
              "               dtypes  count  null_sum  null_pct  nunique  \\\n",
              "attendance     object   2460         0       0.0     2374   \n",
              "away_team      object   2460         0       0.0       30   \n",
              "boxscore_url   object   2460         0       0.0     2460   \n",
              "date           object   2460         0       0.0      203   \n",
              "game_duration  object   2460         0       0.0      168   \n",
              "game_type      object   2460         0       0.0        4   \n",
              "home_team      object   2460         0       0.0       30   \n",
              "start_time     object   2460         0       0.0      207   \n",
              "venue          object   2460         0       0.0       31   \n",
              "\n",
              "                                                             min 25% 50% 75%  \\\n",
              "attendance                                                10,068   -   -   -   \n",
              "away_team                                   Arizona Diamondbacks   -   -   -   \n",
              "boxscore_url   https://www.baseball-reference.com/boxes/ANA/A...   -   -   -   \n",
              "date                                      Friday, April 15, 2016   -   -   -   \n",
              "game_duration                                               1:15   -   -   -   \n",
              "game_type                                     Day Game, on grass   -   -   -   \n",
              "home_team                                   Arizona Diamondbacks   -   -   -   \n",
              "start_time                          Start Time: 11:05 a.m. Local   -   -   -   \n",
              "venue                                                  AT&T Park   -   -   -   \n",
              "\n",
              "                                                             max mean median  \\\n",
              "attendance                                                  9,89    -      -   \n",
              "away_team                                   Washington Nationals    -      -   \n",
              "boxscore_url   https://www.baseball-reference.com/boxes/WAS/W...    -      -   \n",
              "date                                Wednesday, September 7, 2016    -      -   \n",
              "game_duration                                               6:13    -      -   \n",
              "game_type                                    Night Game, on turf    -      -   \n",
              "home_team                                   Washington Nationals    -      -   \n",
              "start_time                           Start Time: 9:52 p.m. Local    -      -   \n",
              "venue                                         Yankee Stadium III    -      -   \n",
              "\n",
              "              std skew  \n",
              "attendance      -    -  \n",
              "away_team       -    -  \n",
              "boxscore_url    -    -  \n",
              "date            -    -  \n",
              "game_duration   -    -  \n",
              "game_type       -    -  \n",
              "home_team       -    -  \n",
              "start_time      -    -  \n",
              "venue           -    -  "
            ],
            "text/html": [
              "\n",
              "  <div id=\"df-2b0e964c-5738-4406-ae88-be3c8bf1ea2c\">\n",
              "    <div class=\"colab-df-container\">\n",
              "      <div>\n",
              "<style scoped>\n",
              "    .dataframe tbody tr th:only-of-type {\n",
              "        vertical-align: middle;\n",
              "    }\n",
              "\n",
              "    .dataframe tbody tr th {\n",
              "        vertical-align: top;\n",
              "    }\n",
              "\n",
              "    .dataframe thead th {\n",
              "        text-align: right;\n",
              "    }\n",
              "</style>\n",
              "<table border=\"1\" class=\"dataframe\">\n",
              "  <thead>\n",
              "    <tr style=\"text-align: right;\">\n",
              "      <th></th>\n",
              "      <th>dtypes</th>\n",
              "      <th>count</th>\n",
              "      <th>null_sum</th>\n",
              "      <th>null_pct</th>\n",
              "      <th>nunique</th>\n",
              "      <th>min</th>\n",
              "      <th>25%</th>\n",
              "      <th>50%</th>\n",
              "      <th>75%</th>\n",
              "      <th>max</th>\n",
              "      <th>mean</th>\n",
              "      <th>median</th>\n",
              "      <th>std</th>\n",
              "      <th>skew</th>\n",
              "    </tr>\n",
              "  </thead>\n",
              "  <tbody>\n",
              "    <tr>\n",
              "      <th>attendance</th>\n",
              "      <td>object</td>\n",
              "      <td>2460</td>\n",
              "      <td>0</td>\n",
              "      <td>0.0</td>\n",
              "      <td>2374</td>\n",
              "      <td>10,068</td>\n",
              "      <td>-</td>\n",
              "      <td>-</td>\n",
              "      <td>-</td>\n",
              "      <td>9,89</td>\n",
              "      <td>-</td>\n",
              "      <td>-</td>\n",
              "      <td>-</td>\n",
              "      <td>-</td>\n",
              "    </tr>\n",
              "    <tr>\n",
              "      <th>away_team</th>\n",
              "      <td>object</td>\n",
              "      <td>2460</td>\n",
              "      <td>0</td>\n",
              "      <td>0.0</td>\n",
              "      <td>30</td>\n",
              "      <td>Arizona Diamondbacks</td>\n",
              "      <td>-</td>\n",
              "      <td>-</td>\n",
              "      <td>-</td>\n",
              "      <td>Washington Nationals</td>\n",
              "      <td>-</td>\n",
              "      <td>-</td>\n",
              "      <td>-</td>\n",
              "      <td>-</td>\n",
              "    </tr>\n",
              "    <tr>\n",
              "      <th>boxscore_url</th>\n",
              "      <td>object</td>\n",
              "      <td>2460</td>\n",
              "      <td>0</td>\n",
              "      <td>0.0</td>\n",
              "      <td>2460</td>\n",
              "      <td>https://www.baseball-reference.com/boxes/ANA/A...</td>\n",
              "      <td>-</td>\n",
              "      <td>-</td>\n",
              "      <td>-</td>\n",
              "      <td>https://www.baseball-reference.com/boxes/WAS/W...</td>\n",
              "      <td>-</td>\n",
              "      <td>-</td>\n",
              "      <td>-</td>\n",
              "      <td>-</td>\n",
              "    </tr>\n",
              "    <tr>\n",
              "      <th>date</th>\n",
              "      <td>object</td>\n",
              "      <td>2460</td>\n",
              "      <td>0</td>\n",
              "      <td>0.0</td>\n",
              "      <td>203</td>\n",
              "      <td>Friday, April 15, 2016</td>\n",
              "      <td>-</td>\n",
              "      <td>-</td>\n",
              "      <td>-</td>\n",
              "      <td>Wednesday, September 7, 2016</td>\n",
              "      <td>-</td>\n",
              "      <td>-</td>\n",
              "      <td>-</td>\n",
              "      <td>-</td>\n",
              "    </tr>\n",
              "    <tr>\n",
              "      <th>game_duration</th>\n",
              "      <td>object</td>\n",
              "      <td>2460</td>\n",
              "      <td>0</td>\n",
              "      <td>0.0</td>\n",
              "      <td>168</td>\n",
              "      <td>1:15</td>\n",
              "      <td>-</td>\n",
              "      <td>-</td>\n",
              "      <td>-</td>\n",
              "      <td>6:13</td>\n",
              "      <td>-</td>\n",
              "      <td>-</td>\n",
              "      <td>-</td>\n",
              "      <td>-</td>\n",
              "    </tr>\n",
              "    <tr>\n",
              "      <th>game_type</th>\n",
              "      <td>object</td>\n",
              "      <td>2460</td>\n",
              "      <td>0</td>\n",
              "      <td>0.0</td>\n",
              "      <td>4</td>\n",
              "      <td>Day Game, on grass</td>\n",
              "      <td>-</td>\n",
              "      <td>-</td>\n",
              "      <td>-</td>\n",
              "      <td>Night Game, on turf</td>\n",
              "      <td>-</td>\n",
              "      <td>-</td>\n",
              "      <td>-</td>\n",
              "      <td>-</td>\n",
              "    </tr>\n",
              "    <tr>\n",
              "      <th>home_team</th>\n",
              "      <td>object</td>\n",
              "      <td>2460</td>\n",
              "      <td>0</td>\n",
              "      <td>0.0</td>\n",
              "      <td>30</td>\n",
              "      <td>Arizona Diamondbacks</td>\n",
              "      <td>-</td>\n",
              "      <td>-</td>\n",
              "      <td>-</td>\n",
              "      <td>Washington Nationals</td>\n",
              "      <td>-</td>\n",
              "      <td>-</td>\n",
              "      <td>-</td>\n",
              "      <td>-</td>\n",
              "    </tr>\n",
              "    <tr>\n",
              "      <th>start_time</th>\n",
              "      <td>object</td>\n",
              "      <td>2460</td>\n",
              "      <td>0</td>\n",
              "      <td>0.0</td>\n",
              "      <td>207</td>\n",
              "      <td>Start Time: 11:05 a.m. Local</td>\n",
              "      <td>-</td>\n",
              "      <td>-</td>\n",
              "      <td>-</td>\n",
              "      <td>Start Time: 9:52 p.m. Local</td>\n",
              "      <td>-</td>\n",
              "      <td>-</td>\n",
              "      <td>-</td>\n",
              "      <td>-</td>\n",
              "    </tr>\n",
              "    <tr>\n",
              "      <th>venue</th>\n",
              "      <td>object</td>\n",
              "      <td>2460</td>\n",
              "      <td>0</td>\n",
              "      <td>0.0</td>\n",
              "      <td>31</td>\n",
              "      <td>AT&amp;T Park</td>\n",
              "      <td>-</td>\n",
              "      <td>-</td>\n",
              "      <td>-</td>\n",
              "      <td>Yankee Stadium III</td>\n",
              "      <td>-</td>\n",
              "      <td>-</td>\n",
              "      <td>-</td>\n",
              "      <td>-</td>\n",
              "    </tr>\n",
              "  </tbody>\n",
              "</table>\n",
              "</div>\n",
              "      <button class=\"colab-df-convert\" onclick=\"convertToInteractive('df-2b0e964c-5738-4406-ae88-be3c8bf1ea2c')\"\n",
              "              title=\"Convert this dataframe to an interactive table.\"\n",
              "              style=\"display:none;\">\n",
              "        \n",
              "  <svg xmlns=\"http://www.w3.org/2000/svg\" height=\"24px\"viewBox=\"0 0 24 24\"\n",
              "       width=\"24px\">\n",
              "    <path d=\"M0 0h24v24H0V0z\" fill=\"none\"/>\n",
              "    <path d=\"M18.56 5.44l.94 2.06.94-2.06 2.06-.94-2.06-.94-.94-2.06-.94 2.06-2.06.94zm-11 1L8.5 8.5l.94-2.06 2.06-.94-2.06-.94L8.5 2.5l-.94 2.06-2.06.94zm10 10l.94 2.06.94-2.06 2.06-.94-2.06-.94-.94-2.06-.94 2.06-2.06.94z\"/><path d=\"M17.41 7.96l-1.37-1.37c-.4-.4-.92-.59-1.43-.59-.52 0-1.04.2-1.43.59L10.3 9.45l-7.72 7.72c-.78.78-.78 2.05 0 2.83L4 21.41c.39.39.9.59 1.41.59.51 0 1.02-.2 1.41-.59l7.78-7.78 2.81-2.81c.8-.78.8-2.07 0-2.86zM5.41 20L4 18.59l7.72-7.72 1.47 1.35L5.41 20z\"/>\n",
              "  </svg>\n",
              "      </button>\n",
              "      \n",
              "  <style>\n",
              "    .colab-df-container {\n",
              "      display:flex;\n",
              "      flex-wrap:wrap;\n",
              "      gap: 12px;\n",
              "    }\n",
              "\n",
              "    .colab-df-convert {\n",
              "      background-color: #E8F0FE;\n",
              "      border: none;\n",
              "      border-radius: 50%;\n",
              "      cursor: pointer;\n",
              "      display: none;\n",
              "      fill: #1967D2;\n",
              "      height: 32px;\n",
              "      padding: 0 0 0 0;\n",
              "      width: 32px;\n",
              "    }\n",
              "\n",
              "    .colab-df-convert:hover {\n",
              "      background-color: #E2EBFA;\n",
              "      box-shadow: 0px 1px 2px rgba(60, 64, 67, 0.3), 0px 1px 3px 1px rgba(60, 64, 67, 0.15);\n",
              "      fill: #174EA6;\n",
              "    }\n",
              "\n",
              "    [theme=dark] .colab-df-convert {\n",
              "      background-color: #3B4455;\n",
              "      fill: #D2E3FC;\n",
              "    }\n",
              "\n",
              "    [theme=dark] .colab-df-convert:hover {\n",
              "      background-color: #434B5C;\n",
              "      box-shadow: 0px 1px 3px 1px rgba(0, 0, 0, 0.15);\n",
              "      filter: drop-shadow(0px 1px 2px rgba(0, 0, 0, 0.3));\n",
              "      fill: #FFFFFF;\n",
              "    }\n",
              "  </style>\n",
              "\n",
              "      <script>\n",
              "        const buttonEl =\n",
              "          document.querySelector('#df-2b0e964c-5738-4406-ae88-be3c8bf1ea2c button.colab-df-convert');\n",
              "        buttonEl.style.display =\n",
              "          google.colab.kernel.accessAllowed ? 'block' : 'none';\n",
              "\n",
              "        async function convertToInteractive(key) {\n",
              "          const element = document.querySelector('#df-2b0e964c-5738-4406-ae88-be3c8bf1ea2c');\n",
              "          const dataTable =\n",
              "            await google.colab.kernel.invokeFunction('convertToInteractive',\n",
              "                                                     [key], {});\n",
              "          if (!dataTable) return;\n",
              "\n",
              "          const docLinkHtml = 'Like what you see? Visit the ' +\n",
              "            '<a target=\"_blank\" href=https://colab.research.google.com/notebooks/data_table.ipynb>data table notebook</a>'\n",
              "            + ' to learn more about interactive tables.';\n",
              "          element.innerHTML = '';\n",
              "          dataTable['output_type'] = 'display_data';\n",
              "          await google.colab.output.renderOutput(dataTable, element);\n",
              "          const docLink = document.createElement('div');\n",
              "          docLink.innerHTML = docLinkHtml;\n",
              "          element.appendChild(docLink);\n",
              "        }\n",
              "      </script>\n",
              "    </div>\n",
              "  </div>\n",
              "  "
            ]
          },
          "metadata": {},
          "execution_count": 30
        }
      ]
    },
    {
      "cell_type": "markdown",
      "source": [
        "# **Regresion Lineal**"
      ],
      "metadata": {
        "id": "6lWM1jWbk9mv"
      }
    },
    {
      "cell_type": "code",
      "source": [
        "#librerias\n",
        "from sklearn.linear_model import LinearRegression\n",
        "from sklearn.model_selection import train_test_split\n",
        "from sklearn.metrics import mean_squared_error\n",
        "from sklearn.preprocessing import StandardScaler"
      ],
      "metadata": {
        "id": "PhOMKD50NMpx"
      },
      "execution_count": 31,
      "outputs": []
    },
    {
      "cell_type": "code",
      "source": [
        "X = np.array(cuantitativos[['home_team_errors','home_team_hits']])\n",
        "Y = np.array(cualitativos['game_duration'].values.tolist())\n",
        "\n",
        "dummies = np.array([12623, 14625, 32642])\n",
        "\n",
        "Y = np.append(Y, dummies)\n",
        "\n",
        "xt, xs, yt, ys = train_test_split(X, y, test_size=0.999)\n",
        "\n",
        "# Aplicar feature scaling\n",
        "scaler = StandardScaler()\n",
        "xt = scaler.fit_transform(xt)\n",
        "xs = scaler.transform(xs)\n",
        "\n",
        "regresion = LinearRegression().fit(xt, yt)\n",
        "\n",
        "y_pred = regresion.predict(xs)\n",
        "\n",
        "print(y_pred)"
      ],
      "metadata": {
        "colab": {
          "base_uri": "https://localhost:8080/"
        },
        "id": "bsQuQX0ONiCm",
        "outputId": "a401c7c4-ae5e-4925-ef71-a3a8a007cdab"
      },
      "execution_count": 67,
      "outputs": [
        {
          "output_type": "stream",
          "name": "stdout",
          "text": [
            "[5.  2.  7.5 ... 6.5 1.5 5.5]\n"
          ]
        }
      ]
    },
    {
      "cell_type": "code",
      "source": [
        "prediccion = np.delete(prediccion, -1)\n",
        "\n",
        "\n",
        "duration = cualitativos['game_duration'].to_numpy()\n",
        "\n",
        "prediccion.shape\n",
        "\n",
        "plt.scatter(duration, prediccion)\n",
        "plt.xlabel('duracion')\n",
        "plt.ylabel('prediccion')\n",
        "plt.show()"
      ],
      "metadata": {
        "colab": {
          "base_uri": "https://localhost:8080/",
          "height": 285
        },
        "id": "8upkot8PRRyC",
        "outputId": "e551168d-2aea-4138-a4e8-e82fa0b1b450"
      },
      "execution_count": 68,
      "outputs": [
        {
          "output_type": "display_data",
          "data": {
            "text/plain": [
              "<Figure size 432x288 with 1 Axes>"
            ],
            "image/png": "[encoded data removed]"
          },
          "metadata": {
            "needs_background": "light"
          }
        }
      ]
    },
    {
      "cell_type": "markdown",
      "source": [
        "parametro r2"
      ],
      "metadata": {
        "id": "Tk7iearndZ5q"
      }
    },
    {
      "cell_type": "code",
      "source": [
        "from sklearn.metrics import r2_score\n",
        "\n",
        "ys = np.delete(ys, -1)\n",
        "\n",
        "mse = mean_squared_error(ys, prediccion)\n",
        "\n",
        "r2 = r2_score(ys, prediccion)\n",
        "print(\"R^2: \", r2)\n",
        "print(\"Mean Squared Error: \", mse)"
      ],
      "metadata": {
        "colab": {
          "base_uri": "https://localhost:8080/"
        },
        "id": "SPBkpiEldbof",
        "outputId": "ddfff4f9-5951-46b8-a6bc-96cfbb34b3ab"
      },
      "execution_count": 69,
      "outputs": [
        {
          "output_type": "stream",
          "name": "stdout",
          "text": [
            "R^2:  -0.2202444741221743\n",
            "Mean Squared Error:  14.387500000000006\n"
          ]
        }
      ]
    },
    {
      "cell_type": "markdown",
      "source": [
        "constantes modelo"
      ],
      "metadata": {
        "id": "1q2yNtrad9Pl"
      }
    },
    {
      "cell_type": "code",
      "source": [
        "print(regresion.coef_)\n",
        "print(regresion.intercept_)"
      ],
      "metadata": {
        "colab": {
          "base_uri": "https://localhost:8080/"
        },
        "id": "eNONdz2Hd-Yn",
        "outputId": "d8e66b3b-8566-4d89-8878-207fb4efc9bf"
      },
      "execution_count": 70,
      "outputs": [
        {
          "output_type": "stream",
          "name": "stdout",
          "text": [
            "[-1.  1.]\n",
            "3.0\n"
          ]
        }
      ]
    },
    {
      "cell_type": "markdown",
      "source": [
        "# Hallazgos y conclusiones."
      ],
      "metadata": {
        "id": "rJnlt5MAeACm"
      }
    },
    {
      "cell_type": "markdown",
      "source": [
        "Con la regresion lineal se pudo ver que se realizan mas anotaciones en los primeros minutos de juego y que mientras mas pase el tiempo menos anotaciones se van realizando.\n",
        "\n",
        "Seguidamente el equipo mas fuerte de esta temporada fueron los Washington Nationals; el cual tenia mas anotaciones tanto como eran home, como cuando eran away\n",
        "\n",
        "Tambien se puede denotar una alta correlacion entre los puntos anotados por los equipos away y las \"away runs\", lo cual puede explicar la alta posibilidad de encestar entre los primeros minutos, mas que los ultimos\n"
      ],
      "metadata": {
        "id": "Upvlf1X5eF6A"
      }
    }
  ]
}